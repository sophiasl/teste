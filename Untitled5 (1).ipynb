{
 "cells": [
  {
   "cell_type": "code",
   "execution_count": 1,
   "metadata": {},
   "outputs": [
    {
     "name": "stderr",
     "output_type": "stream",
     "text": [
      "Using TensorFlow backend.\n"
     ]
    }
   ],
   "source": [
    "import numpy as np \n",
    "import pandas as pd\n",
    "import matplotlib.pyplot as plt\n",
    "from keras.preprocessing.image import load_img, save_img, img_to_array\n",
    "from sklearn.model_selection import train_test_split, cross_val_score, KFold, GridSearchCV\n",
    "from sklearn.ensemble import RandomForestRegressor\n",
    "from PIL import Image, ImageFilter\n",
    "import os\n",
    "from skimage import color\n",
    "from skimage import io"
   ]
  },
  {
   "cell_type": "code",
   "execution_count": 3,
   "metadata": {},
   "outputs": [],
   "source": [
    "image_path = r\"C:\\Users\\annes\\OneDrive\\Bureau\\data\\resized\\Mikhail_Vrubel_155.jpg\""
   ]
  },
  {
   "cell_type": "code",
   "execution_count": 4,
   "metadata": {},
   "outputs": [],
   "source": [
    "def preprocess_image(image_path):\n",
    "    \n",
    "    #from keras.applications import vgg19\n",
    "    img = color.rgb2gray(io.imread(image_path))\n",
    "    img = np.ravel(img)\n",
    "    #img = img_to_array(img)\n",
    "    im=img/255\n",
    "    img = img.astype(int)\n",
    "    return img"
   ]
  },
  {
   "cell_type": "code",
   "execution_count": 5,
   "metadata": {},
   "outputs": [],
   "source": [
    "def load_images():\n",
    "\n",
    "\tall_paint=[]\n",
    "\tPath = r\"C:\\Users\\annes\\OneDrive\\Bureau\\data\\resized\"\n",
    "\t\n",
    "\tartists=os.listdir(Path)\n",
    "\tfor artist in artists:\n",
    "  \t  paint=os.listdir(Path+artist)\n",
    "  \t  for paints in paint:\n",
    "     \t   all_paint.append(preprocess_image(Path+artist+'/'+paints))\n",
    "\n",
    "\ttamanho_pinturas = len(all_paint)\n",
    "\tprint(\"Tamanho do arranjo pinturas = \",tamanho_pinturas)\n",
    "\t\n",
    "\t#all_paint=np.stack(all_paint)\n",
    "\t\n",
    "\treturn all_paint"
   ]
  },
  {
   "cell_type": "code",
   "execution_count": 11,
   "metadata": {},
   "outputs": [],
   "source": [
    "def load_artistas():\n",
    "\tartistas=[]\n",
    "\tPath = r\"C:\\Users\\annes\\OneDrive\\Bureau\\data\\resized\"\n",
    "\tartists=os.listdir(Path)\n",
    "\tfor artist in artists:\n",
    "\t\tpaint=os.listdir(Path+artist)\n",
    "\t\tfor paints in paint:\n",
    "\t\t\tartistas.append(artist)\n",
    "     \t   \n",
    "\ttamanho_artistas = len(artistas)\n",
    "\tprint(\"Tamanho do arranjo artistas = \",tamanho_artistas)\n",
    "    \n",
    "\treturn artistas"
   ]
  },
  {
   "cell_type": "code",
   "execution_count": 12,
   "metadata": {},
   "outputs": [],
   "source": [
    "def image_to_pandas(image,artista):\n",
    "\tdf = pd.DataFrame(image)\n",
    "\tdf.loc[:, 'Pintores'] = artistas \n",
    "\treturn df"
   ]
  },
  {
   "cell_type": "code",
   "execution_count": 13,
   "metadata": {},
   "outputs": [
    {
     "ename": "FileNotFoundError",
     "evalue": "[WinError 3] Le chemin d’accès spécifié est introuvable: 'C:\\\\Users\\\\annes\\\\OneDrive\\\\Bureau\\\\data\\\\resizedAlbrecht_Dürer_1.jpg'",
     "output_type": "error",
     "traceback": [
      "\u001b[1;31m---------------------------------------------------------------------------\u001b[0m",
      "\u001b[1;31mFileNotFoundError\u001b[0m                         Traceback (most recent call last)",
      "\u001b[1;32m<ipython-input-13-1cbd8e02daad>\u001b[0m in \u001b[0;36m<module>\u001b[1;34m\u001b[0m\n\u001b[1;32m----> 1\u001b[1;33m \u001b[0mpinturas\u001b[0m \u001b[1;33m=\u001b[0m \u001b[0mload_images\u001b[0m\u001b[1;33m(\u001b[0m\u001b[1;33m)\u001b[0m\u001b[1;33m\u001b[0m\u001b[1;33m\u001b[0m\u001b[0m\n\u001b[0m\u001b[0;32m      2\u001b[0m \u001b[0mpintores\u001b[0m \u001b[1;33m=\u001b[0m \u001b[0mload_artistas\u001b[0m\u001b[1;33m(\u001b[0m\u001b[1;33m)\u001b[0m\u001b[1;33m\u001b[0m\u001b[1;33m\u001b[0m\u001b[0m\n",
      "\u001b[1;32m<ipython-input-5-fcd652265e6f>\u001b[0m in \u001b[0;36mload_images\u001b[1;34m()\u001b[0m\n\u001b[0;32m      6\u001b[0m         \u001b[0martists\u001b[0m\u001b[1;33m=\u001b[0m\u001b[0mos\u001b[0m\u001b[1;33m.\u001b[0m\u001b[0mlistdir\u001b[0m\u001b[1;33m(\u001b[0m\u001b[0mPath\u001b[0m\u001b[1;33m)\u001b[0m\u001b[1;33m\u001b[0m\u001b[1;33m\u001b[0m\u001b[0m\n\u001b[0;32m      7\u001b[0m         \u001b[1;32mfor\u001b[0m \u001b[0martist\u001b[0m \u001b[1;32min\u001b[0m \u001b[0martists\u001b[0m\u001b[1;33m:\u001b[0m\u001b[1;33m\u001b[0m\u001b[1;33m\u001b[0m\u001b[0m\n\u001b[1;32m----> 8\u001b[1;33m           \u001b[0mpaint\u001b[0m\u001b[1;33m=\u001b[0m\u001b[0mos\u001b[0m\u001b[1;33m.\u001b[0m\u001b[0mlistdir\u001b[0m\u001b[1;33m(\u001b[0m\u001b[0mPath\u001b[0m\u001b[1;33m+\u001b[0m\u001b[0martist\u001b[0m\u001b[1;33m)\u001b[0m\u001b[1;33m\u001b[0m\u001b[1;33m\u001b[0m\u001b[0m\n\u001b[0m\u001b[0;32m      9\u001b[0m           \u001b[1;32mfor\u001b[0m \u001b[0mpaints\u001b[0m \u001b[1;32min\u001b[0m \u001b[0mpaint\u001b[0m\u001b[1;33m:\u001b[0m\u001b[1;33m\u001b[0m\u001b[1;33m\u001b[0m\u001b[0m\n\u001b[0;32m     10\u001b[0m            \u001b[0mall_paint\u001b[0m\u001b[1;33m.\u001b[0m\u001b[0mappend\u001b[0m\u001b[1;33m(\u001b[0m\u001b[0mpreprocess_image\u001b[0m\u001b[1;33m(\u001b[0m\u001b[0mPath\u001b[0m\u001b[1;33m+\u001b[0m\u001b[0martist\u001b[0m\u001b[1;33m+\u001b[0m\u001b[1;34m'/'\u001b[0m\u001b[1;33m+\u001b[0m\u001b[0mpaints\u001b[0m\u001b[1;33m)\u001b[0m\u001b[1;33m)\u001b[0m\u001b[1;33m\u001b[0m\u001b[1;33m\u001b[0m\u001b[0m\n",
      "\u001b[1;31mFileNotFoundError\u001b[0m: [WinError 3] Le chemin d’accès spécifié est introuvable: 'C:\\\\Users\\\\annes\\\\OneDrive\\\\Bureau\\\\data\\\\resizedAlbrecht_Dürer_1.jpg'"
     ]
    }
   ],
   "source": [
    "pinturas = load_images()\n",
    "pintores = load_artistas()"
   ]
  }
 ],
 "metadata": {
  "kernelspec": {
   "display_name": "Python 3",
   "language": "python",
   "name": "python3"
  },
  "language_info": {
   "codemirror_mode": {
    "name": "ipython",
    "version": 3
   },
   "file_extension": ".py",
   "mimetype": "text/x-python",
   "name": "python",
   "nbconvert_exporter": "python",
   "pygments_lexer": "ipython3",
   "version": "3.6.8"
  }
 },
 "nbformat": 4,
 "nbformat_minor": 2
}
